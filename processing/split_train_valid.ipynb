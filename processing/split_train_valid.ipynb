{
 "cells": [
  {
   "cell_type": "code",
   "execution_count": null,
   "id": "cac7df26-61eb-48c8-83f6-8ca5622b0e08",
   "metadata": {},
   "outputs": [],
   "source": [
    "import json\n",
    "from pathlib import Path\n",
    "from tqdm import tqdm\n",
    "from random import seed, sample\n",
    "seed(0)\n"
   ]
  },
  {
   "cell_type": "code",
   "execution_count": null,
   "id": "df619d41-5ade-4930-9db3-234dfb725740",
   "metadata": {},
   "outputs": [],
   "source": [
    "input_path = Path(r'dataset\\jpg\\training_cropped')\n",
    "output_path = Path(r'dataset\\training.json')"
   ]
  },
  {
   "cell_type": "code",
   "execution_count": null,
   "id": "bd2e5597-c8ab-47e8-b8f9-f51b76af311c",
   "metadata": {
    "scrolled": true,
    "tags": []
   },
   "outputs": [],
   "source": [
    "input_dir = []\n",
    "classes = []\n",
    "for p in input_path.iterdir():\n",
    "    input_dir.append(p)\n",
    "    classes.append(p.name)\n",
    "    print(p.name)"
   ]
  },
  {
   "cell_type": "code",
   "execution_count": null,
   "id": "c6ae6dd7-eae2-4926-be7d-e8552bb54ae7",
   "metadata": {
    "scrolled": true,
    "tags": []
   },
   "outputs": [],
   "source": [
    "dataset = {'train': [], 'valid': []}\n",
    "\n",
    "for d in tqdm(input_dir):\n",
    "    files = [d.stem +'\\\\'+ f.name for f in d.glob('**/*.jpg')]\n",
    "    train_num = int(len(files)*0.7)\n",
    "\n",
    "    train = sample(files, train_num)\n",
    "    test = [f for f in files if f not in train]\n",
    "\n",
    "    dataset['train'].append(train)\n",
    "    dataset['valid'].append(test)\n",
    "\n",
    "with open(output_path, 'w') as f:\n",
    "    json.dump(dataset, f)\n"
   ]
  },
  {
   "cell_type": "code",
   "execution_count": null,
   "id": "9f8d6b00-ccb6-44eb-90a4-fa5fb653d481",
   "metadata": {
    "scrolled": true,
    "tags": []
   },
   "outputs": [],
   "source": [
    "for i, cls in enumerate(classes):\n",
    "    print('{:>14s}: train: {}, valid: {}'\n",
    "          .format(cls, len(dataset['train'][i]), len(dataset['valid'][i])))"
   ]
  },
  {
   "cell_type": "code",
   "execution_count": null,
   "id": "f5b55ef5-9a36-4180-9885-ba34def85c23",
   "metadata": {},
   "outputs": [],
   "source": []
  }
 ],
 "metadata": {
  "kernelspec": {
   "display_name": "Python 3 (ipykernel)",
   "language": "python",
   "name": "python3"
  },
  "language_info": {
   "codemirror_mode": {
    "name": "ipython",
    "version": 3
   },
   "file_extension": ".py",
   "mimetype": "text/x-python",
   "name": "python",
   "nbconvert_exporter": "python",
   "pygments_lexer": "ipython3",
   "version": "3.9.15"
  }
 },
 "nbformat": 4,
 "nbformat_minor": 5
}
