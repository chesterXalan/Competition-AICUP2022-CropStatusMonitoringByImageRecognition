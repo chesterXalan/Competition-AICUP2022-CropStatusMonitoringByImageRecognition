{
 "cells": [
  {
   "cell_type": "code",
   "execution_count": null,
   "id": "cefc2426-6fe0-41bf-8f9b-dae179630926",
   "metadata": {},
   "outputs": [],
   "source": [
    "import pandas as pd\n",
    "from PIL import Image\n",
    "from pathlib import Path\n",
    "from tqdm import tqdm\n"
   ]
  },
  {
   "cell_type": "code",
   "execution_count": null,
   "id": "76e5697c-26af-486b-87a0-309efbec7da1",
   "metadata": {},
   "outputs": [],
   "source": [
    "input_path = Path(r'dataset\\jpg\\training')\n",
    "output_path = Path(r'dataset\\jpg\\training_cropped')\n",
    "csv_file = Path(r'dataset\\csv\\training-tag_locCoor.csv')"
   ]
  },
  {
   "cell_type": "code",
   "execution_count": null,
   "id": "2e787e4b-674a-41dd-82a5-499903125227",
   "metadata": {},
   "outputs": [],
   "source": [
    "df = pd.read_csv(csv_file, encoding='ANSI')\n",
    "Img = df['Img'].to_list()\n",
    "target_x = df['target_x'].to_list()\n",
    "target_y = df['target_y'].to_list()"
   ]
  },
  {
   "cell_type": "code",
   "execution_count": null,
   "id": "90aeed5d-e88f-48a9-b9b1-3971b584229e",
   "metadata": {},
   "outputs": [],
   "source": [
    "files = [f for f in input_path.glob('**/*.jpg')]\n",
    "\n",
    "for f in tqdm(files):\n",
    "    image = Image.open(f)\n",
    "    width, height = image.size\n",
    "\n",
    "    c_width, c_height = int(width/2), int(height/2)\n",
    "    crop_offset = int(min(width, height)/2)\n",
    "    \n",
    "    idx = Img.index(f.name)\n",
    "    p1 = [c_width+target_x[idx]-crop_offset, c_height-target_y[idx]-crop_offset]\n",
    "    p2 = [c_width+target_x[idx]+crop_offset, c_height-target_y[idx]+crop_offset]\n",
    "    \n",
    "    if p1[0] < 0: p1[0] = 0\n",
    "    if p1[1] < 0: p1[1] = 0\n",
    "    if p2[0] >= width: p2[0] = width-1\n",
    "    if p2[1] >= height: p2[1] = height-1\n",
    "    image_crop = image.crop((p1[0], p1[1], p2[0], p2[1]))\n",
    "    \n",
    "    o_path = Path(output_path, f.parent.name, f.name)\n",
    "    if not o_path.parent.exists():\n",
    "        o_path.parent.mkdir()\n",
    "    image_crop.save(o_path)\n"
   ]
  },
  {
   "cell_type": "code",
   "execution_count": null,
   "id": "a69b8920-9066-410d-a40b-ba942897bfdb",
   "metadata": {},
   "outputs": [],
   "source": []
  }
 ],
 "metadata": {
  "kernelspec": {
   "display_name": "Python 3 (ipykernel)",
   "language": "python",
   "name": "python3"
  },
  "language_info": {
   "codemirror_mode": {
    "name": "ipython",
    "version": 3
   },
   "file_extension": ".py",
   "mimetype": "text/x-python",
   "name": "python",
   "nbconvert_exporter": "python",
   "pygments_lexer": "ipython3",
   "version": "3.9.15"
  }
 },
 "nbformat": 4,
 "nbformat_minor": 5
}
