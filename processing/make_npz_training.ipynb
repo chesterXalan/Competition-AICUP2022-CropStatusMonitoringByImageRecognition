{
 "cells": [
  {
   "cell_type": "code",
   "execution_count": null,
   "id": "cac7df26-61eb-48c8-83f6-8ca5622b0e08",
   "metadata": {},
   "outputs": [],
   "source": [
    "import json\n",
    "import numpy as np\n",
    "from pathlib import Path\n",
    "from tqdm import tqdm\n",
    "from PIL import Image\n",
    "np.random.seed(0)\n"
   ]
  },
  {
   "cell_type": "code",
   "execution_count": null,
   "id": "df619d41-5ade-4930-9db3-234dfb725740",
   "metadata": {},
   "outputs": [],
   "source": [
    "json_path = Path(r'dataset\\training.json')\n",
    "input_path = Path(r'dataset\\jpg\\training_cropped')\n",
    "output_path = Path(r'dataset\\npz')"
   ]
  },
  {
   "cell_type": "code",
   "execution_count": null,
   "id": "e467b8f7-1a0e-493b-a82e-30c8ffd78ac5",
   "metadata": {
    "scrolled": true,
    "tags": []
   },
   "outputs": [],
   "source": [
    "with open(json_path, 'r') as f:\n",
    "    dataset = json.load(f)\n",
    "    \n",
    "for i in range(len(dataset['train'])):\n",
    "    print('{:>2d}: train: {}, valid: {}'\n",
    "          .format(i, len(dataset['train'][i]), len(dataset['valid'][i])))"
   ]
  },
  {
   "cell_type": "code",
   "execution_count": null,
   "id": "252dcd92-013e-40c2-a5c4-0e02b17e3e0e",
   "metadata": {},
   "outputs": [],
   "source": [
    "train_images_lst, train_labels_lst = [], []\n",
    "valid_images_lst, valid_labels_lst = [], []\n",
    "\n",
    "for i in range(len(dataset['train'])):\n",
    "    for f in dataset['train'][i]:\n",
    "        train_images_lst.append(f)\n",
    "        train_labels_lst.append(i)\n",
    "    for f in dataset['valid'][i]:\n",
    "        valid_images_lst.append(f)\n",
    "        valid_labels_lst.append(i)\n",
    "        \n",
    "print('train_images: {}, train_labels: {}\\nvalid_images: {}, valid_labels: {}'\n",
    "      .format(len(train_images_lst), len(train_labels_lst), len(valid_images_lst), len(valid_labels_lst)))"
   ]
  },
  {
   "cell_type": "code",
   "execution_count": null,
   "id": "9c73bf37-e530-4e82-a87a-23acbc607640",
   "metadata": {},
   "outputs": [],
   "source": [
    "train_data_idx = np.arange(len(train_images_lst))\n",
    "valid_data_idx = np.arange(len(valid_images_lst))\n",
    "np.random.shuffle(train_data_idx)\n",
    "np.random.shuffle(valid_data_idx)"
   ]
  },
  {
   "cell_type": "code",
   "execution_count": null,
   "id": "8ccf0cc8-1503-4bcd-94e2-153b1c672200",
   "metadata": {},
   "outputs": [],
   "source": [
    "dataset = {'train': [train_images_lst[idx] for idx in train_data_idx],\n",
    "           'valid': [valid_images_lst[idx] for idx in valid_data_idx]}\n",
    "\n",
    "shuffled_json_path = Path(r'dataset\\train_valid.json')\n",
    "with open(shuffled_json_path, 'w') as f:\n",
    "    json.dump(dataset, f)"
   ]
  },
  {
   "cell_type": "code",
   "execution_count": null,
   "id": "95f98b8e-dba4-4522-8651-9cc6fd850cf1",
   "metadata": {},
   "outputs": [],
   "source": [
    "print(input_path.name)\n",
    "\n",
    "image_size = (480, 480)\n",
    "train_images_arr = np.zeros((len(train_images_lst), image_size[1], image_size[0], 3), 'uint8')\n",
    "train_labels_arr = np.zeros(len(train_labels_lst), 'int')\n",
    "valid_images_arr = np.zeros((len(valid_images_lst), image_size[1], image_size[0], 3), 'uint8')\n",
    "valid_labels_arr = np.zeros(len(valid_labels_lst), 'int')\n",
    "\n",
    "for i, idx in enumerate(tqdm(train_data_idx)):\n",
    "    image_path = Path(input_path, train_images_lst[idx])\n",
    "    train_images_arr[i] = np.array(Image.open(image_path).resize(image_size, Image.Resampling.BICUBIC))\n",
    "    train_labels_arr[i] = train_labels_lst[idx]\n",
    "    \n",
    "for i, idx in enumerate(tqdm(valid_data_idx)):\n",
    "    image_path = Path(input_path, valid_images_lst[idx])\n",
    "    valid_images_arr[i] = np.array(Image.open(image_path).resize(image_size, Image.Resampling.BICUBIC))\n",
    "    valid_labels_arr[i] = valid_labels_lst[idx]"
   ]
  },
  {
   "cell_type": "code",
   "execution_count": null,
   "id": "42473699-55ba-414f-9ec7-606fc20829b8",
   "metadata": {},
   "outputs": [],
   "source": [
    "npz_file = output_path.joinpath('{}_{}x{}.npz'.format(input_path.name, image_size[0], image_size[1]))\n",
    "np.savez(npz_file, train_images=train_images_arr, train_labels=train_labels_arr, \n",
    "         valid_images=valid_images_arr, valid_labels=valid_labels_arr)"
   ]
  },
  {
   "cell_type": "code",
   "execution_count": null,
   "id": "874dd748-0456-433e-956b-b1d9156298df",
   "metadata": {},
   "outputs": [],
   "source": []
  }
 ],
 "metadata": {
  "kernelspec": {
   "display_name": "Python 3 (ipykernel)",
   "language": "python",
   "name": "python3"
  },
  "language_info": {
   "codemirror_mode": {
    "name": "ipython",
    "version": 3
   },
   "file_extension": ".py",
   "mimetype": "text/x-python",
   "name": "python",
   "nbconvert_exporter": "python",
   "pygments_lexer": "ipython3",
   "version": "3.9.15"
  }
 },
 "nbformat": 4,
 "nbformat_minor": 5
}
