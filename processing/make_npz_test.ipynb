{
 "cells": [
  {
   "cell_type": "code",
   "execution_count": null,
   "id": "cac7df26-61eb-48c8-83f6-8ca5622b0e08",
   "metadata": {},
   "outputs": [],
   "source": [
    "import json\n",
    "import numpy as np\n",
    "from pathlib import Path\n",
    "from tqdm import tqdm\n",
    "from PIL import Image\n"
   ]
  },
  {
   "cell_type": "code",
   "execution_count": null,
   "id": "df619d41-5ade-4930-9db3-234dfb725740",
   "metadata": {},
   "outputs": [],
   "source": [
    "input_path = Path(r'dataset\\jpg\\test_public_cropped')\n",
    "output_path = Path(r'dataset\\npz')\n",
    "process_type = 'test_public_cropped'"
   ]
  },
  {
   "cell_type": "code",
   "execution_count": null,
   "id": "f4c9eba3-01fa-4e9b-acee-17b177689e8a",
   "metadata": {},
   "outputs": [],
   "source": [
    "input_path = Path(r'dataset\\jpg\\test_private_cropped')\n",
    "output_path = Path(r'dataset\\npz')\n",
    "process_type = 'test_private_cropped'"
   ]
  },
  {
   "cell_type": "code",
   "execution_count": null,
   "id": "252dcd92-013e-40c2-a5c4-0e02b17e3e0e",
   "metadata": {},
   "outputs": [],
   "source": [
    "test_images_lst = [p.name for p in input_path.glob('**/*.jpg')]\n",
    "print('test_images: {}'.format(len(test_images_lst)))"
   ]
  },
  {
   "cell_type": "code",
   "execution_count": null,
   "id": "b83ca932-70d2-4dc4-8906-d1417463c8d5",
   "metadata": {},
   "outputs": [],
   "source": [
    "dataset = {'test': test_images_lst}\n",
    "\n",
    "#json_path = Path(r'dataset\\test_public.json')\n",
    "json_path = Path(r'dataset\\test_private.json')\n",
    "with open(json_path, 'w') as f:\n",
    "    json.dump(dataset, f)"
   ]
  },
  {
   "cell_type": "code",
   "execution_count": null,
   "id": "95f98b8e-dba4-4522-8651-9cc6fd850cf1",
   "metadata": {},
   "outputs": [],
   "source": [
    "print(process_type)\n",
    "\n",
    "image_size = (480, 480)\n",
    "test_images_arr = np.zeros((len(test_images_lst), image_size[1], image_size[0], 3), 'uint8')\n",
    "\n",
    "for i in tqdm(range(len(test_images_arr))):\n",
    "    image_path = Path(input_path, test_images_lst[i])\n",
    "    test_images_arr[i] = np.array(Image.open(image_path).resize(image_size, Image.Resampling.BICUBIC))"
   ]
  },
  {
   "cell_type": "code",
   "execution_count": null,
   "id": "42473699-55ba-414f-9ec7-606fc20829b8",
   "metadata": {},
   "outputs": [],
   "source": [
    "npz_file = output_path.joinpath('test_public_cropped_{}x{}.npz'.format(image_size[1], image_size[0]))\n",
    "np.savez(npz_file, test_images=test_images_arr)"
   ]
  },
  {
   "cell_type": "code",
   "execution_count": null,
   "id": "b6eaf297-64e3-443a-98c0-b2c06aaca0e7",
   "metadata": {},
   "outputs": [],
   "source": [
    "npz_file = output_path.joinpath('test_private_cropped_{}x{}.npz'.format(image_size[1], image_size[0]))\n",
    "np.savez(npz_file, test_images=test_images_arr)"
   ]
  },
  {
   "cell_type": "code",
   "execution_count": null,
   "id": "c31ef5d9-dfae-4f82-bf4c-26a001e57c13",
   "metadata": {},
   "outputs": [],
   "source": []
  }
 ],
 "metadata": {
  "kernelspec": {
   "display_name": "Python 3 (ipykernel)",
   "language": "python",
   "name": "python3"
  },
  "language_info": {
   "codemirror_mode": {
    "name": "ipython",
    "version": 3
   },
   "file_extension": ".py",
   "mimetype": "text/x-python",
   "name": "python",
   "nbconvert_exporter": "python",
   "pygments_lexer": "ipython3",
   "version": "3.9.15"
  }
 },
 "nbformat": 4,
 "nbformat_minor": 5
}
